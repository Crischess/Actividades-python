{
 "cells": [
  {
   "cell_type": "markdown",
   "metadata": {},
   "source": [
    "Cuaderno practico de Semana 1\n",
    "Los *Jupyter Notebook* son un tipo especial de archivo que permite la ejecucion de **codigo Python en bloques**, combinados con texto en formato markdown\n",
    "\n",
    "Las celdas se van ejecutando en orden y guardando valores en memoria. Por ejemplo, si imprimimos lo siguiente:"
   ]
  },
  {
   "cell_type": "markdown",
   "metadata": {},
   "source": [
    "# Practico Semana 1\n"
   ]
  },
  {
   "cell_type": "code",
   "execution_count": 2,
   "metadata": {},
   "outputs": [
    {
     "name": "stdout",
     "output_type": "stream",
     "text": [
      "Hola mundo\n"
     ]
    }
   ],
   "source": [
    "# Esto es un hola mundo\n",
    "\n",
    "print(mensaje)"
   ]
  },
  {
   "cell_type": "markdown",
   "metadata": {},
   "source": [
    "Nos dará un mensaje de error. Si lo interpretamos podemos encontrar una solucion.\n",
    "Hazlo tu en el siguiente bloque.\n"
   ]
  },
  {
   "cell_type": "code",
   "execution_count": 1,
   "metadata": {},
   "outputs": [],
   "source": [
    "#ingresa la solucion para mostrar el mensaje \"Hola Mundo\"\n",
    "mensaje = \"Hola mundo\""
   ]
  },
  {
   "cell_type": "markdown",
   "metadata": {},
   "source": [
    "### Las salidas (outputs) de las celdas son asíncronas\n",
    "Esto quiere decir que los resultados se ven conforme se van generando en el kernel.\n",
    "\n",
    "### Salidas grandes\n",
    "Para manejar mejor las salidas grandes, el área de salida se puede contraer. Ejecute la siguiente celda y luego haz clic simple o doble en el área activa a la izquierda de la salida:\n",
    "\n"
   ]
  },
  {
   "cell_type": "code",
   "execution_count": 3,
   "metadata": {},
   "outputs": [
    {
     "name": "stdout",
     "output_type": "stream",
     "text": [
      "2\n",
      "4\n",
      "6\n",
      "8\n",
      "10\n",
      "12\n",
      "14\n",
      "16\n",
      "18\n",
      "20\n",
      "22\n",
      "24\n",
      "26\n",
      "28\n",
      "30\n",
      "32\n",
      "34\n",
      "36\n",
      "38\n",
      "40\n",
      "42\n",
      "44\n",
      "46\n",
      "48\n",
      "50\n",
      "52\n",
      "54\n",
      "56\n",
      "58\n",
      "60\n",
      "62\n",
      "64\n",
      "66\n",
      "68\n",
      "70\n",
      "72\n",
      "74\n",
      "76\n",
      "78\n",
      "80\n",
      "82\n",
      "84\n",
      "86\n",
      "88\n",
      "90\n",
      "92\n",
      "94\n",
      "96\n",
      "98\n"
     ]
    }
   ],
   "source": [
    "for i in range(2,100,2):\n",
    "    print(i)"
   ]
  },
  {
   "cell_type": "markdown",
   "metadata": {},
   "source": [
    "<div class=\"alert alert-block alert-warning\">\n",
    "<b>TIP:</b> Recuerda guardar regularmente tu trabajo  \n",
    "</div>"
   ]
  },
  {
   "cell_type": "markdown",
   "metadata": {},
   "source": [
    "## **El Zen de Python**\n",
    "El veterano pytonista Tim Peters, canaliza sucintamente los principios rectores para el diseño de Python en 19 aforismos. Se le conoce como **El Zen de Python**."
   ]
  },
  {
   "cell_type": "code",
   "execution_count": 4,
   "metadata": {},
   "outputs": [
    {
     "name": "stdout",
     "output_type": "stream",
     "text": [
      "The Zen of Python, by Tim Peters\n",
      "\n",
      "Beautiful is better than ugly.\n",
      "Explicit is better than implicit.\n",
      "Simple is better than complex.\n",
      "Complex is better than complicated.\n",
      "Flat is better than nested.\n",
      "Sparse is better than dense.\n",
      "Readability counts.\n",
      "Special cases aren't special enough to break the rules.\n",
      "Although practicality beats purity.\n",
      "Errors should never pass silently.\n",
      "Unless explicitly silenced.\n",
      "In the face of ambiguity, refuse the temptation to guess.\n",
      "There should be one-- and preferably only one --obvious way to do it.\n",
      "Although that way may not be obvious at first unless you're Dutch.\n",
      "Now is better than never.\n",
      "Although never is often better than *right* now.\n",
      "If the implementation is hard to explain, it's a bad idea.\n",
      "If the implementation is easy to explain, it may be a good idea.\n",
      "Namespaces are one honking great idea -- let's do more of those!\n"
     ]
    }
   ],
   "source": [
    "# El Zen de Python\n",
    "import this\n"
   ]
  },
  {
   "cell_type": "markdown",
   "metadata": {},
   "source": [
    "## Sintaxis\n",
    "La sintaxis de Python es muy parecida al lenguaje natural o pseudocódigo\n",
    "\n",
    "No es necesario crear la típica función main() para poder ejecutar codigo\n",
    "\n",
    "### Comentarios\n",
    "Los comentarios son bloques de texto usados para comentar el código\n",
    "\n",
    "Los comentarios se inician con `#` y todo lo que vaya después en la misma línea será considerado un comentario.\n",
    "\n",
    "```python\n",
    "# Esto es un comentario\n",
    "```\n",
    "\n",
    "Al igual que en otros lenguajes de programación, podemos también comentar varias líneas de código. Para ello es necesario hacer uso de triples comillas bien sean simples `'''` o dobles `\"\"\"`\n",
    "\n",
    "Comenta en el cuadro anterior el codigo correspondiente al hola mundo hecho mas arriba"
   ]
  },
  {
   "cell_type": "code",
   "execution_count": null,
   "metadata": {},
   "outputs": [],
   "source": [
    "#print(mensaje)"
   ]
  },
  {
   "cell_type": "markdown",
   "metadata": {},
   "source": [
    "# Identación y bloques de código\n",
    "En Python los bloques de código se representan con identación\n",
    "\n",
    "La norma general es usar cuatro espacios.\n",
    "\n",
    "En el siguiente código tenemos un condicional if. Justo después tenemos un print() identado con cuatro espacios. Por lo tanto, todo lo que tenga esa identación pertenecerá al bloque del if.\n",
    "\n",
    "```python\n",
    "if True:\n",
    "    print(\"True\")\n",
    "```\n",
    "\n",
    "Esto es muy importante ya que el código anterior y el siguiente no son lo mismo. De hecho el siguiente código daría un error ya que el if no contiene ningún bloque de código, y eso es algo que no se puede hacer en Python.\n",
    "\n",
    "```python\n",
    "if True:\n",
    "print(\"True\")\n",
    "```\n",
    "\n",
    "Por otro lado, a diferencia de en otros lenguajes de programación, no es necesario utilizar ; para terminar cada línea. Pero se puede usar el punto y coma ; para tener dos sentencias en la misma línea.\n",
    "\n",
    "```python\n",
    "x = 5\n",
    "y = 10\n",
    "\n",
    "x = 5; y = 10\n",
    "```"
   ]
  },
  {
   "cell_type": "markdown",
   "metadata": {},
   "source": [
    "## Múltiples líneas\n",
    "La especificación PEP8 se recomienda que las líneas no excedan los 79 caracteres.\n",
    "\n",
    "Haciendo uso de `\\` se puede romper el código en varias líneas. Si por lo contrario estamos dentro de un bloque rodeado con paréntesis (), bastaría con saltar a la siguiente línea.\n",
    "\n",
    "```python\n",
    "x = 1 + 2 + 3 + 4 +\\\n",
    "    5 + 6 + 7 + 8\n",
    "\n",
    "x = (1 + 2 + 3 + 4 +\n",
    "     5 + 6 + 7 + 8)\n",
    "\n",
    "def funcion(a, b, c):\n",
    "    return a+b+c\n",
    "\n",
    "d = funcion(10,\n",
    "23,\n",
    "3)\n",
    "```"
   ]
  },
  {
   "cell_type": "markdown",
   "metadata": {},
   "source": [
    "## Variables"
   ]
  },
  {
   "cell_type": "markdown",
   "metadata": {},
   "source": [
    "En Python, se declara una variable y se le asigna un valor mediante el operador de asignación =. La variable está en el lado izquierdo del operador y el valor asignado *(que puede ser una expresión como 2 + 2 e incluso puede incluir otras variables)* se encuentra en el lado derecho.\n",
    "\n",
    "Las variables `x` y `X` son distintas. (Case Sensitive)\n",
    "\n",
    "Por otro lado existen ciertas normas a la hora de nombrar variables:\n",
    "\n",
    "1. El nombre no puede empezar por un número\n",
    "2. No se permite el uso de guiones -\n",
    "3. Tampoco se permite el uso de espacios\n",
    "4. No se pueden usar nombres reservados (import keyword -> print(keyword.kwlist))\n",
    "\n",
    "```python\n",
    "# Válido\n",
    "_variable = 10\n",
    "vari_able = 20\n",
    "variable10 = 30\n",
    "variable = 60\n",
    "variaBle = 10\n",
    "\n",
    "# No válido\n",
    "2variable = 10\n",
    "var-iable = 10\n",
    "var iable = 10\n",
    "```"
   ]
  },
  {
   "cell_type": "markdown",
   "metadata": {},
   "source": [
    "Explica con palabras las siguientes asignaciones de variables"
   ]
  },
  {
   "cell_type": "code",
   "execution_count": 5,
   "metadata": {},
   "outputs": [],
   "source": [
    "x = 1   #A la variable x se le esta asignando el valor 1      \n",
    "y = x + 5      #A la variable y se le esta asignando el valor de x mas 5 lo cual seria 1 + 5\n",
    "z = y          #A la variable se le esta asignando el valor del resultado de la suma asignado en la variable y"
   ]
  },
  {
   "cell_type": "markdown",
   "metadata": {},
   "source": [
    "### Números"
   ]
  },
  {
   "cell_type": "markdown",
   "metadata": {},
   "source": [
    "La mayoría de los programas manipulan números. Los equipos tratan números enteros y números decimales de forma distinta."
   ]
  },
  {
   "cell_type": "markdown",
   "metadata": {},
   "source": [
    "Explica con palabras las siguientes asignaciones de variables (tipos)"
   ]
  },
  {
   "cell_type": "code",
   "execution_count": 6,
   "metadata": {},
   "outputs": [],
   "source": [
    "x = 1 # x es una variable de tipo integer\n",
    "x = 1.0 # x es de tipo double float"
   ]
  },
  {
   "cell_type": "markdown",
   "metadata": {},
   "source": [
    "Mediante la funcion *type* puedes ver el tipo de dato de una variable determinada. \n",
    "\n",
    "Prueba verificando el tipo de dato para *x = 1* y para *x = 1.0*"
   ]
  },
  {
   "cell_type": "code",
   "execution_count": 7,
   "metadata": {},
   "outputs": [
    {
     "name": "stdout",
     "output_type": "stream",
     "text": [
      "<class 'int'>\n",
      "<class 'float'>\n"
     ]
    }
   ],
   "source": [
    "#La sintaxis es print(type(x))\n",
    "#Se agrega print para poder ver el resultado por pantalla\n",
    "\n",
    "x = 1\n",
    "print(type(x))\n",
    "\n",
    "x = 1.0\n",
    "print(type(x))\n",
    "\n"
   ]
  },
  {
   "cell_type": "markdown",
   "metadata": {},
   "source": [
    "Al igual que ocurre en matemáticas, en programación también tenemos una prioridad en los operadores. Esto significa que si una expresión matemática es precedida por un operador y seguido de otro, el operador más alto en la lista debe ser aplicado por primera vez. Las expresiones con paréntesis se evalúan de dentro a fuera, el paréntesis más interno se evalúa primero. El orden normal de las operaciones es de izquierda a derecha, evaluando en orden los siguientes operadores:\n",
    "\n",
    "* Términos entre paréntesis.\n",
    "* Potenciación y raíces.\n",
    "* Multiplicación y división.\n",
    "* Suma y resta.\n",
    "\n",
    "En Python se representan los operadores con el siguiente orden:\n",
    "```\n",
    "( )\n",
    "**\n",
    "X, /, %, //\n",
    "+, -\n",
    "````"
   ]
  },
  {
   "cell_type": "markdown",
   "metadata": {},
   "source": [
    "## **Principales tipos de números** \n",
    "\n",
    "Los `int` son números enteros. <br>Los `float` son números decimales (recuerda que en Python la parte decimal se delimita con un punto y NO con una coma).<br>\n",
    "`complex` son números complejos."
   ]
  },
  {
   "cell_type": "markdown",
   "metadata": {},
   "source": [
    "### Booleanos\n",
    "\n",
    "Otro tipo de datos habitual es el tipo booleano, que contiene el valor True o False:"
   ]
  },
  {
   "cell_type": "code",
   "execution_count": 8,
   "metadata": {},
   "outputs": [
    {
     "name": "stdout",
     "output_type": "stream",
     "text": [
      "<class 'bool'>\n"
     ]
    }
   ],
   "source": [
    "x = True\n",
    "print(type(x))"
   ]
  },
  {
   "cell_type": "markdown",
   "metadata": {},
   "source": [
    "Internamente, *bool* se trata como un tipo especial de entero. Técnicamente, **True tiene un valor de 1 y False tiene un valor de 0**. \n",
    "\n",
    "Normalmente, los valores booleanos no se usan para realizar operaciones matemáticas, sino que se usan para tomar decisione"
   ]
  },
  {
   "cell_type": "markdown",
   "metadata": {},
   "source": [
    "### Strings\n",
    "\n",
    "Las cadenas son, junto con los números, uno de los tipos de datos más usados. Una cadena es una colección de cero o más caracteres. Las cadenas se declaran normalmente mediante comillas simples, pero también puede utilizar comillas dobles:"
   ]
  },
  {
   "cell_type": "code",
   "execution_count": 9,
   "metadata": {},
   "outputs": [
    {
     "name": "stdout",
     "output_type": "stream",
     "text": [
      "Este es MI String\n",
      "<class 'str'>\n"
     ]
    }
   ],
   "source": [
    "x = 'Este es MI String'\n",
    "print(x) \n",
    "print(type(x)) \n",
    "y = \"Este tambien es MIO\""
   ]
  },
  {
   "cell_type": "markdown",
   "metadata": {},
   "source": [
    "La figura de la concatenacion con el operador `+` tambien funciona en Python"
   ]
  },
  {
   "cell_type": "code",
   "execution_count": 10,
   "metadata": {},
   "outputs": [
    {
     "name": "stdout",
     "output_type": "stream",
     "text": [
      "Hola Mundo!\n"
     ]
    }
   ],
   "source": [
    "x = 'Hola' + ' ' + 'Mundo!'\n",
    "print(x) "
   ]
  },
  {
   "cell_type": "markdown",
   "metadata": {},
   "source": [
    "De forma predeterminada, `print` genera un carácter de nueva línea al final de la línea, de modo que una llamada posterior a `print` se inicia en la línea siguiente."
   ]
  },
  {
   "cell_type": "markdown",
   "metadata": {},
   "source": [
    "**`help()`**<br>\n",
    "La función `help()` nos entrega una descripción detallada del objeto pasado como argumento."
   ]
  },
  {
   "cell_type": "code",
   "execution_count": 11,
   "metadata": {},
   "outputs": [
    {
     "name": "stdout",
     "output_type": "stream",
     "text": [
      "Help on built-in function print in module builtins:\n",
      "\n",
      "print(*args, sep=' ', end='\\n', file=None, flush=False)\n",
      "    Prints the values to a stream, or to sys.stdout by default.\n",
      "\n",
      "    sep\n",
      "      string inserted between values, default a space.\n",
      "    end\n",
      "      string appended after the last value, default a newline.\n",
      "    file\n",
      "      a file-like object (stream); defaults to the current sys.stdout.\n",
      "    flush\n",
      "      whether to forcibly flush the stream.\n",
      "\n"
     ]
    }
   ],
   "source": [
    "help(print)"
   ]
  },
  {
   "cell_type": "markdown",
   "metadata": {},
   "source": [
    "### Lectura de la entrada de teclado\n",
    "Para leer la entrada hecha desde el teclado, Python proporciona la función `input()`. `input()` lee lo que el usuario escribe en el teclado y lo devuelve como una cadena.\n",
    "\n",
    "Se puede pasar como parametro a la funcion input un string que aparecerá como mensaje acompañando al cuadro de entrada de texto. Tambien se puede llamar sin un parametro (pero asociada a una variable. Ej: `valor = input()` )"
   ]
  },
  {
   "cell_type": "code",
   "execution_count": 12,
   "metadata": {},
   "outputs": [
    {
     "name": "stdout",
     "output_type": "stream",
     "text": [
      "Bienvenido cristopher\n"
     ]
    }
   ],
   "source": [
    "# Realiza una implementacion de la funcion input que le pida al usuario su nombre\n",
    "# y que posteriormente imprima un saludo mencionando el nombre ingresado\n",
    "\n",
    "nombre = input(\"Ingrese su nombre: \")\n",
    "\n",
    "print(f\"Bienvenido {nombre}\")"
   ]
  },
  {
   "cell_type": "markdown",
   "metadata": {},
   "source": [
    "Como siempre se lee la entrada ingresada como texto, al momento de leer un numero es necesario hacerle casting.\n",
    "\n",
    "Modifica el codigo anterior para que el usuario ingrese su edad en años"
   ]
  },
  {
   "cell_type": "code",
   "execution_count": 14,
   "metadata": {},
   "outputs": [
    {
     "name": "stdout",
     "output_type": "stream",
     "text": [
      "Bienvenido cristopher con edad 20 \n"
     ]
    }
   ],
   "source": [
    "# Agrega aca el código solicitado\n",
    "def saludo(nombre,edad):\n",
    "    saludoCompleto = f\"Bienvenido {nombre} con edad {edad} \"\n",
    "    return print(saludoCompleto)\n",
    "\n",
    "nombre = input(\"Ingrese su nombre: \")\n",
    "edad = int(input(\"Ingrese su edad: \"))\n",
    "\n",
    "saludo(nombre,edad)"
   ]
  },
  {
   "cell_type": "markdown",
   "metadata": {},
   "source": [
    "Que ocurre si la entrada no es numerica y se castea a un `int()`?"
   ]
  },
  {
   "cell_type": "code",
   "execution_count": 21,
   "metadata": {},
   "outputs": [],
   "source": [
    "# Prueba castear a int un valor que no sea numérico"
   ]
  },
  {
   "cell_type": "markdown",
   "metadata": {},
   "source": [
    "#### Ejercicio propuesto\n",
    "Realiza una calculadora simple que solo realice sumas.\n",
    "1. Debe solicitar que ingrese el primer número\n",
    "2. Debe solicitar que ingrese el segundo número\n",
    "3. Debe mostrar el mensaje \"El resultado de la suma es:\" mas el resultado calculado"
   ]
  },
  {
   "cell_type": "code",
   "execution_count": 15,
   "metadata": {},
   "outputs": [
    {
     "name": "stdout",
     "output_type": "stream",
     "text": [
      "Ingrese dos numeros a calcular\n",
      "\n"
     ]
    },
    {
     "data": {
      "text/plain": [
       "'El resultado de 20 + 12 es 32'"
      ]
     },
     "execution_count": 15,
     "metadata": {},
     "output_type": "execute_result"
    }
   ],
   "source": [
    "# Realice acá el ejercicio propuesto\n",
    "\n",
    "def calculadora(num1,num2):\n",
    "\n",
    "    suma = num1 + num2\n",
    "\n",
    "    result = f\"El resultado de {num1} + {num2} es {suma}\"\n",
    "\n",
    "    return result\n",
    "\n",
    "print(\"Ingrese dos numeros a calcular\")\n",
    "\n",
    "print(\"\")\n",
    "\n",
    "num1 = int(input(\"Ingrese el primer numero: \"))\n",
    "\n",
    "num2 = int(input(\"Ingrese el segundo numero: \"))\n",
    "\n",
    "calculadora(num1,num2)"
   ]
  },
  {
   "cell_type": "markdown",
   "metadata": {},
   "source": [
    "#### Bibliografia\n",
    "Guia PEP8\n",
    "https://peps.python.org/pep-0008/\n",
    "\n",
    "Guia de Estilo:\n",
    "https://docs.python-guide.org/writing/style/\n",
    "\n",
    "Metodos para Strings:\n",
    "https://www.w3schools.com/python/python_ref_string.asp\n",
    "\n",
    "Funciones integradas:\n",
    "https://docs.python.org/3/library/functions.html"
   ]
  }
 ],
 "metadata": {
  "kernelspec": {
   "display_name": "Python 3",
   "language": "python",
   "name": "python3"
  },
  "language_info": {
   "codemirror_mode": {
    "name": "ipython",
    "version": 3
   },
   "file_extension": ".py",
   "mimetype": "text/x-python",
   "name": "python",
   "nbconvert_exporter": "python",
   "pygments_lexer": "ipython3",
   "version": "3.12.1"
  }
 },
 "nbformat": 4,
 "nbformat_minor": 2
}
